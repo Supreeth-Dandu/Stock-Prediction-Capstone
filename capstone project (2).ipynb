{
 "cells": [
  {
   "cell_type": "code",
   "execution_count": 11,
   "metadata": {},
   "outputs": [],
   "source": [
    "import yfinance as yf\n",
    "import pandas as pd\n",
    "import os\n"
   ]
  },
  {
   "cell_type": "code",
   "execution_count": 19,
   "metadata": {},
   "outputs": [],
   "source": [
    "tickers = ['AMZN', 'TSLA']\n",
    "start_date = '2018-01-01'\n",
    "end_date = '2024-12-06'"
   ]
  },
  {
   "cell_type": "code",
   "execution_count": 20,
   "metadata": {
    "scrolled": true
   },
   "outputs": [
    {
     "name": "stderr",
     "output_type": "stream",
     "text": [
      "[*********************100%***********************]  1 of 1 completed\n"
     ]
    },
    {
     "name": "stdout",
     "output_type": "stream",
     "text": [
      "Saved AMZN data to AMZN.csv\n"
     ]
    },
    {
     "name": "stderr",
     "output_type": "stream",
     "text": [
      "[*********************100%***********************]  1 of 1 completed"
     ]
    },
    {
     "name": "stdout",
     "output_type": "stream",
     "text": [
      "Saved TSLA data to TSLA.csv\n"
     ]
    },
    {
     "name": "stderr",
     "output_type": "stream",
     "text": [
      "\n"
     ]
    }
   ],
   "source": [
    "for ticker in tickers:\n",
    "    data = yf.download(ticker, start=start_date, end=end_date)\n",
    "    output_file = f\"{ticker}.csv\"  # Save in the current folder\n",
    "    data.to_csv(output_file)\n",
    "    print(f\"Saved {ticker} data to {output_file}\")"
   ]
  },
  {
   "cell_type": "markdown",
   "metadata": {},
   "source": [
    "# Loading CSV files and calculating indicators"
   ]
  },
  {
   "cell_type": "code",
   "execution_count": 27,
   "metadata": {},
   "outputs": [
    {
     "name": "stdout",
     "output_type": "stream",
     "text": [
      "        Price           Adj Close               Close               High  \\\n",
      "0      Ticker                AMZN                AMZN               AMZN   \n",
      "1        Date                 NaN                 NaN                NaN   \n",
      "2  2018-01-02   59.45050048828125   59.45050048828125               59.5   \n",
      "3  2018-01-03  60.209999084472656  60.209999084472656  60.27450180053711   \n",
      "4  2018-01-04   60.47949981689453   60.47949981689453  60.79349899291992   \n",
      "\n",
      "                  Low                Open    Volume  \n",
      "0                AMZN                AMZN      AMZN  \n",
      "1                 NaN                 NaN       NaN  \n",
      "2    58.5255012512207  58.599998474121094  53890000  \n",
      "3  59.415000915527344  59.415000915527344  62176000  \n",
      "4  60.233001708984375               60.25  60442000  \n"
     ]
    }
   ],
   "source": [
    "# Read the CSV file into a DataFrame\n",
    "df_AMZN = pd.read_csv(\"AMZN.csv\")\n",
    "        \n",
    "# Display the first few rows of the DataFrame\n",
    "print(df_AMZN.head())"
   ]
  },
  {
   "cell_type": "code",
   "execution_count": 28,
   "metadata": {},
   "outputs": [
    {
     "name": "stdout",
     "output_type": "stream",
     "text": [
      "           Price           Adj Close               Close                High  \\\n",
      "1741  2024-11-29  207.88999938964844  207.88999938964844   208.1999969482422   \n",
      "1742  2024-12-02   210.7100067138672   210.7100067138672  212.99000549316406   \n",
      "1743  2024-12-03  213.44000244140625  213.44000244140625  214.02000427246094   \n",
      "1744  2024-12-04  218.16000366210938  218.16000366210938               220.0   \n",
      "1745  2024-12-05   220.5500030517578   220.5500030517578  222.14999389648438   \n",
      "\n",
      "                     Low                Open    Volume  \n",
      "1741  204.58999633789062   205.8300018310547  24892400  \n",
      "1742  209.50999450683594   209.9600067138672  39523200  \n",
      "1743  209.64999389648438  210.30999755859375  32214800  \n",
      "1744              215.75   215.9600067138672  48745700  \n",
      "1745   217.3000030517578  218.02999877929688  41140200  \n"
     ]
    }
   ],
   "source": [
    "print(df_AMZN.tail())"
   ]
  },
  {
   "cell_type": "code",
   "execution_count": 29,
   "metadata": {},
   "outputs": [
    {
     "name": "stdout",
     "output_type": "stream",
     "text": [
      "        Price               Close                High                 Low  \\\n",
      "0  2018-01-02   59.45050048828125                59.5    58.5255012512207   \n",
      "1  2018-01-03  60.209999084472656   60.27450180053711  59.415000915527344   \n",
      "2  2018-01-04   60.47949981689453   60.79349899291992  60.233001708984375   \n",
      "3  2018-01-05  61.457000732421875  61.457000732421875                60.5   \n",
      "4  2018-01-08   62.34349822998047   62.65399932861328   61.60150146484375   \n",
      "\n",
      "                 Open    Volume  \n",
      "0  58.599998474121094  53890000  \n",
      "1  59.415000915527344  62176000  \n",
      "2               60.25  60442000  \n",
      "3    60.8754997253418  70894000  \n",
      "4   61.79999923706055  85590000  \n"
     ]
    }
   ],
   "source": [
    "\n",
    "# Remove the first two rows (which contain unwanted data)\n",
    "df_AMZN = df_AMZN.iloc[2:].reset_index(drop=True)\n",
    "\n",
    "# Drop the first two columns (Ticker and the next one)\n",
    "df_AMZN = df_AMZN.drop(df_AMZN.columns[1], axis=1)\n",
    "\n",
    "# Print the cleaned DataFrame\n",
    "print(df_AMZN.head())\n"
   ]
  },
  {
   "cell_type": "code",
   "execution_count": 30,
   "metadata": {},
   "outputs": [
    {
     "name": "stdout",
     "output_type": "stream",
     "text": [
      "         Date               Close                High                 Low  \\\n",
      "0  2018-01-02   59.45050048828125                59.5    58.5255012512207   \n",
      "1  2018-01-03  60.209999084472656   60.27450180053711  59.415000915527344   \n",
      "2  2018-01-04   60.47949981689453   60.79349899291992  60.233001708984375   \n",
      "3  2018-01-05  61.457000732421875  61.457000732421875                60.5   \n",
      "4  2018-01-08   62.34349822998047   62.65399932861328   61.60150146484375   \n",
      "\n",
      "                 Open    Volume  \n",
      "0  58.599998474121094  53890000  \n",
      "1  59.415000915527344  62176000  \n",
      "2               60.25  60442000  \n",
      "3    60.8754997253418  70894000  \n",
      "4   61.79999923706055  85590000  \n"
     ]
    }
   ],
   "source": [
    "# Rename the 'Price' column to 'Date'\n",
    "df_AMZN = df_AMZN.rename(columns={'Price': 'Date'})\n",
    "\n",
    "# Print the updated DataFrame\n",
    "print(df_AMZN.head())\n"
   ]
  },
  {
   "cell_type": "code",
   "execution_count": 33,
   "metadata": {},
   "outputs": [
    {
     "name": "stdout",
     "output_type": "stream",
     "text": [
      "         Date  Close   High    Low   Open    Volume\n",
      "0  2018-01-02  59.45  59.50  58.53  58.60  53890000\n",
      "1  2018-01-03  60.21  60.27  59.42  59.42  62176000\n",
      "2  2018-01-04  60.48  60.79  60.23  60.25  60442000\n",
      "3  2018-01-05  61.46  61.46  60.50  60.88  70894000\n",
      "4  2018-01-08  62.34  62.65  61.60  61.80  85590000\n"
     ]
    }
   ],
   "source": [
    "# Convert the columns to numeric (if they are not already)\n",
    "df_AMZN[['Close', 'High', 'Low', 'Open']] = df_AMZN[['Close', 'High', 'Low', 'Open']].apply(pd.to_numeric, errors='coerce')\n",
    "\n",
    "# Round all columns except 'Date' and 'Volume' to 2 decimal places\n",
    "df_AMZN[['Close', 'High', 'Low', 'Open']] = df_AMZN[['Close', 'High', 'Low', 'Open']].round(2)\n",
    "\n",
    "# Print the updated DataFrame\n",
    "print(df_AMZN.head())\n"
   ]
  },
  {
   "cell_type": "code",
   "execution_count": 34,
   "metadata": {},
   "outputs": [
    {
     "name": "stdout",
     "output_type": "stream",
     "text": [
      "<class 'pandas.core.frame.DataFrame'>\n",
      "RangeIndex: 1744 entries, 0 to 1743\n",
      "Data columns (total 6 columns):\n",
      " #   Column  Non-Null Count  Dtype  \n",
      "---  ------  --------------  -----  \n",
      " 0   Date    1744 non-null   object \n",
      " 1   Close   1744 non-null   float64\n",
      " 2   High    1744 non-null   float64\n",
      " 3   Low     1744 non-null   float64\n",
      " 4   Open    1744 non-null   float64\n",
      " 5   Volume  1744 non-null   object \n",
      "dtypes: float64(4), object(2)\n",
      "memory usage: 81.9+ KB\n"
     ]
    }
   ],
   "source": [
    "df_AMZN.info()"
   ]
  },
  {
   "cell_type": "code",
   "execution_count": 35,
   "metadata": {},
   "outputs": [
    {
     "name": "stdout",
     "output_type": "stream",
     "text": [
      "Date      datetime64[ns]\n",
      "Close            float64\n",
      "High             float64\n",
      "Low              float64\n",
      "Open             float64\n",
      "Volume             int64\n",
      "dtype: object\n",
      "        Date  Close   High    Low   Open    Volume\n",
      "0 2018-01-02  59.45  59.50  58.53  58.60  53890000\n",
      "1 2018-01-03  60.21  60.27  59.42  59.42  62176000\n",
      "2 2018-01-04  60.48  60.79  60.23  60.25  60442000\n",
      "3 2018-01-05  61.46  61.46  60.50  60.88  70894000\n",
      "4 2018-01-08  62.34  62.65  61.60  61.80  85590000\n"
     ]
    }
   ],
   "source": [
    "# Convert 'Volume' to numeric\n",
    "df_AMZN['Volume'] = pd.to_numeric(df_AMZN['Volume'], errors='coerce')\n",
    "\n",
    "# Convert 'Date' to datetime format\n",
    "df_AMZN['Date'] = pd.to_datetime(df_AMZN['Date'], errors='coerce')\n",
    "\n",
    "# Print the updated dtypes and first few rows\n",
    "print(df_AMZN.dtypes)\n",
    "print(df_AMZN.head())\n"
   ]
  },
  {
   "cell_type": "code",
   "execution_count": null,
   "metadata": {},
   "outputs": [],
   "source": []
  },
  {
   "cell_type": "code",
   "execution_count": 38,
   "metadata": {},
   "outputs": [
    {
     "name": "stdout",
     "output_type": "stream",
     "text": [
      "        Date  Close   High    Low   Open    Volume  SMA_50     EMA_50  RSI  \\\n",
      "0 2018-01-02  59.45  59.50  58.53  58.60  53890000     NaN  59.450000  NaN   \n",
      "1 2018-01-03  60.21  60.27  59.42  59.42  62176000     NaN  59.479804  NaN   \n",
      "2 2018-01-04  60.48  60.79  60.23  60.25  60442000     NaN  59.519027  NaN   \n",
      "3 2018-01-05  61.46  61.46  60.50  60.88  70894000     NaN  59.595144  NaN   \n",
      "4 2018-01-08  62.34  62.65  61.60  61.80  85590000     NaN  59.702785  NaN   \n",
      "\n",
      "      EMA_12     EMA_26      MACD  Signal_Line  SMA_20  Upper_Band  \\\n",
      "0  59.450000  59.450000  0.000000     0.000000     NaN         NaN   \n",
      "1  59.566923  59.506296  0.060627     0.012125     NaN         NaN   \n",
      "2  59.707396  59.578422  0.128974     0.035495     NaN         NaN   \n",
      "3  59.977028  59.717799  0.259229     0.080242     NaN         NaN   \n",
      "4  60.340562  59.912036  0.428526     0.149899     NaN         NaN   \n",
      "\n",
      "   Lower_Band  L14  H14  %K  %D  \n",
      "0         NaN  NaN  NaN NaN NaN  \n",
      "1         NaN  NaN  NaN NaN NaN  \n",
      "2         NaN  NaN  NaN NaN NaN  \n",
      "3         NaN  NaN  NaN NaN NaN  \n",
      "4         NaN  NaN  NaN NaN NaN  \n"
     ]
    }
   ],
   "source": [
    "\n",
    "def calculate_indicators(data):\n",
    "    # Simple Moving Average (SMA)\n",
    "    data['SMA_50'] = data['Close'].rolling(window=50).mean()\n",
    "    \n",
    "    # Exponential Moving Average (EMA)\n",
    "    data['EMA_50'] = data['Close'].ewm(span=50, adjust=False).mean()\n",
    "    \n",
    "    # Relative Strength Index (RSI)\n",
    "    def calculate_rsi(data, window=14):\n",
    "        delta = data['Close'].diff()\n",
    "        gain = (delta.where(delta > 0, 0)).rolling(window=window).mean()\n",
    "        loss = (-delta.where(delta < 0, 0)).rolling(window=window).mean()\n",
    "        rs = gain / loss\n",
    "        return 100 - (100 / (1 + rs))\n",
    "    \n",
    "    data['RSI'] = calculate_rsi(data)\n",
    "    \n",
    "    # MACD\n",
    "    data['EMA_12'] = data['Close'].ewm(span=12, adjust=False).mean()\n",
    "    data['EMA_26'] = data['Close'].ewm(span=26, adjust=False).mean()\n",
    "    data['MACD'] = data['EMA_12'] - data['EMA_26']\n",
    "    data['Signal_Line'] = data['MACD'].ewm(span=9, adjust=False).mean()\n",
    "    \n",
    "    # Bollinger Bands\n",
    "    def calculate_bollinger_bands(data, window=20, num_sd=2):\n",
    "        data['SMA_20'] = data['Close'].rolling(window=window).mean()\n",
    "        data['Upper_Band'] = data['SMA_20'] + (data['Close'].rolling(window=window).std() * num_sd)\n",
    "        data['Lower_Band'] = data['SMA_20'] - (data['Close'].rolling(window=window).std() * num_sd)\n",
    "    calculate_bollinger_bands(data)\n",
    "    \n",
    "    # Stochastic Oscillator\n",
    "    def calculate_stochastic(data, k_window=14, d_window=3):\n",
    "        data['L14'] = data['Low'].rolling(window=k_window).min()\n",
    "        data['H14'] = data['High'].rolling(window=k_window).max()\n",
    "        data['%K'] = (data['Close'] - data['L14']) / (data['H14'] - data['L14']) * 100\n",
    "        data['%D'] = data['%K'].rolling(window=d_window).mean()\n",
    "        return data\n",
    "    data = calculate_stochastic(data)\n",
    "    \n",
    "    return data\n",
    "\n",
    "stock_data = calculate_indicators(df_AMZN)\n",
    "#stock_data.to_csv(file_path)\n",
    "print(stock_data.head())\n"
   ]
  },
  {
   "cell_type": "code",
   "execution_count": 39,
   "metadata": {},
   "outputs": [
    {
     "name": "stdout",
     "output_type": "stream",
     "text": [
      "           Date   Close    High     Low    Open    Volume    SMA_50  \\\n",
      "1739 2024-11-29  207.89  208.20  204.59  205.83  24892400  194.4946   \n",
      "1740 2024-12-02  210.71  212.99  209.51  209.96  39523200  194.8768   \n",
      "1741 2024-12-03  213.44  214.02  209.65  210.31  32214800  195.2680   \n",
      "1742 2024-12-04  218.16  220.00  215.75  215.96  48745700  195.7520   \n",
      "1743 2024-12-05  220.55  222.15  217.30  218.03  41140200  196.3124   \n",
      "\n",
      "          EMA_50        RSI      EMA_12      EMA_26      MACD  Signal_Line  \\\n",
      "1739  195.997499  49.687567  204.009065  200.830835  3.178230     3.609105   \n",
      "1740  196.574460  54.040510  205.039978  201.562625  3.477353     3.582755   \n",
      "1741  197.235854  54.665294  206.332289  202.442431  3.889858     3.644175   \n",
      "1742  198.056409  54.222130  208.151937  203.606695  4.545242     3.824389   \n",
      "1743  198.938510  59.477534  210.059331  204.861755  5.197576     4.099026   \n",
      "\n",
      "       SMA_20  Upper_Band  Lower_Band     L14     H14         %K         %D  \n",
      "1739  204.505  214.771441  194.238559  195.75  215.90  60.248139  56.641853  \n",
      "1740  205.144  215.277364  195.010636  195.75  215.90  74.243176  61.356493  \n",
      "1741  206.027  215.795903  196.258097  195.75  215.90  87.791563  74.094293  \n",
      "1742  206.960  217.627191  196.292809  195.75  220.00  92.412371  84.815704  \n",
      "1743  207.633  219.911438  195.354562  195.75  222.15  93.939394  91.381109  \n"
     ]
    }
   ],
   "source": [
    "print(stock_data.tail())\n"
   ]
  },
  {
   "cell_type": "code",
   "execution_count": 40,
   "metadata": {},
   "outputs": [],
   "source": [
    "stock_data.to_csv('stock_data.csv', index=False)\n"
   ]
  },
  {
   "cell_type": "code",
   "execution_count": null,
   "metadata": {},
   "outputs": [],
   "source": [
    "## REMOVE SMA_50  L14     H14         %K         %D"
   ]
  },
  {
   "cell_type": "code",
   "execution_count": null,
   "metadata": {},
   "outputs": [],
   "source": []
  },
  {
   "cell_type": "code",
   "execution_count": 44,
   "metadata": {},
   "outputs": [],
   "source": [
    "df1=stock_data.reset_index()['Close']"
   ]
  },
  {
   "cell_type": "code",
   "execution_count": 47,
   "metadata": {},
   "outputs": [
    {
     "data": {
      "text/plain": [
       "1739    207.89\n",
       "1740    210.71\n",
       "1741    213.44\n",
       "1742    218.16\n",
       "1743    220.55\n",
       "Name: Close, dtype: float64"
      ]
     },
     "execution_count": 47,
     "metadata": {},
     "output_type": "execute_result"
    }
   ],
   "source": [
    "df1.tail()"
   ]
  },
  {
   "cell_type": "code",
   "execution_count": 48,
   "metadata": {},
   "outputs": [
    {
     "data": {
      "text/plain": [
       "[<matplotlib.lines.Line2D at 0x25c7d53ff50>]"
      ]
     },
     "execution_count": 48,
     "metadata": {},
     "output_type": "execute_result"
    },
    {
     "data": {
      "image/png": "[encoded data removed]",
      "text/plain": [
       "<Figure size 640x480 with 1 Axes>"
      ]
     },
     "metadata": {},
     "output_type": "display_data"
    }
   ],
   "source": [
    "import matplotlib.pyplot as plt \n",
    "plt.plot(df1)"
   ]
  },
  {
   "cell_type": "code",
   "execution_count": null,
   "metadata": {},
   "outputs": [],
   "source": []
  }
 ],
 "metadata": {
  "colab": {
   "provenance": []
  },
  "kernelspec": {
   "display_name": "Python 3 (ipykernel)",
   "language": "python",
   "name": "python3"
  },
  "language_info": {
   "codemirror_mode": {
    "name": "ipython",
    "version": 3
   },
   "file_extension": ".py",
   "mimetype": "text/x-python",
   "name": "python",
   "nbconvert_exporter": "python",
   "pygments_lexer": "ipython3",
   "version": "3.11.7"
  }
 },
 "nbformat": 4,
 "nbformat_minor": 1
}
